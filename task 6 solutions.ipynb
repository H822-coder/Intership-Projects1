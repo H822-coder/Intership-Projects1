{
  "metadata": {
    "kernelspec": {
      "name": "python",
      "display_name": "Python (Pyodide)",
      "language": "python"
    },
    "language_info": {
      "codemirror_mode": {
        "name": "python",
        "version": 3
      },
      "file_extension": ".py",
      "mimetype": "text/x-python",
      "name": "python",
      "nbconvert_exporter": "python",
      "pygments_lexer": "ipython3",
      "version": "3.8"
    }
  },
  "nbformat_minor": 5,
  "nbformat": 4,
  "cells": [
    {
      "id": "fc19b01d-2be9-4da0-845e-172276f35ea5",
      "cell_type": "code",
      "source": "# task 39 Sudoku Validator\ndef is_valid_sudoku(board):\n    def is_valid_unit(unit):\n        unit = [num for num in unit if num != '.']\n        return len(unit) == len(set(unit))\n\n    for row in board:\n        if not is_valid_unit(row):\n            return False\n\n    for col in zip(*board):\n        if not is_valid_unit(col):\n            return False\n\n    for i in range(0, 9, 3):\n        for j in range(0, 9, 3):\n            square = [board[x][y] for x in range(i, i+3) for y in range(j, j+3)]\n            if not is_valid_unit(square):\n                return False\n\n    return True\n\n# Example usage:\nsudoku_board = [\n    [\"5\",\"3\",\".\",\".\",\"7\",\".\",\".\",\".\",\".\"],\n    [\"6\",\".\",\".\",\"1\",\"9\",\"5\",\".\",\".\",\".\"],\n    [\".\",\"9\",\"8\",\".\",\".\",\".\",\".\",\"6\",\".\"],\n    [\"8\",\".\",\".\",\".\",\"6\",\".\",\".\",\".\",\"3\"],\n    [\"4\",\".\",\".\",\"8\",\".\",\"3\",\".\",\".\",\"1\"],\n    [\"7\",\".\",\".\",\".\",\"2\",\".\",\".\",\".\",\"6\"],\n    [\".\",\"6\",\".\",\".\",\".\",\".\",\"2\",\"8\",\".\"],\n    [\".\",\".\",\".\",\"4\",\"1\",\"9\",\".\",\".\",\"5\"],\n    [\".\",\".\",\".\",\".\",\"8\",\".\",\".\",\"7\",\"9\"]\n]\n\nprint(is_valid_sudoku(sudoku_board))\n",
      "metadata": {
        "trusted": true
      },
      "outputs": [
        {
          "name": "stdout",
          "output_type": "stream",
          "text": "True\n"
        }
      ],
      "execution_count": 1
    },
    {
      "id": "02cb0795-b14b-46f3-a79b-4aa2d3e1e941",
      "cell_type": "code",
      "source": "# task 40Word Frequency in Tex\nfrom collections import Counter\n\ndef word_frequency(text):\n    words = text.lower().split()\n    return dict(Counter(words))\n\n# Example usage:\ntext = \"hello world hello everyone\"\nprint(word_frequency(text))\n",
      "metadata": {
        "trusted": true,
        "jupyter": {
          "source_hidden": true
        }
      },
      "outputs": [
        {
          "name": "stdout",
          "output_type": "stream",
          "text": "{'hello': 2, 'world': 1, 'everyone': 1}\n"
        }
      ],
      "execution_count": 2
    },
    {
      "id": "ecbbb6bb-ab08-4327-8b0d-3b6fae0361fc",
      "cell_type": "code",
      "source": "# Task 41 Knapsack Problem (0/1)\ndef knapsack(weights, values, capacity):\n    n = len(weights)\n    dp = [[0] * (capacity + 1) for _ in range(n + 1)]\n\n    for i in range(1, n + 1):\n        for w in range(capacity + 1):\n            if weights[i - 1] <= w:\n                dp[i][w] = max(dp[i - 1][w], dp[i - 1][w - weights[i - 1]] + values[i - 1])\n            else:\n                dp[i][w] = dp[i - 1][w]\n\n    return dp[n][capacity]\n\n# Example usage:\nweights = [2, 3, 4, 5]\nvalues = [3, 4, 5, 6]\ncapacity = 5\nprint(knapsack(weights, values, capacity))\n",
      "metadata": {
        "trusted": true
      },
      "outputs": [
        {
          "name": "stdout",
          "output_type": "stream",
          "text": "7\n"
        }
      ],
      "execution_count": 3
    },
    {
      "id": "053ed4ce-0235-42f0-9a35-d6bac4df9b14",
      "cell_type": "code",
      "source": "#Task 42 Merge Intervals\ndef merge_intervals(intervals):\n    intervals.sort(key=lambda x: x[0])\n    merged = []\n\n    for interval in intervals:\n        if merged and interval[0] <= merged[-1][1]:\n            merged[-1][1] = max(merged[-1][1], interval[1])\n        else:\n            merged.append(interval)\n\n    return merged\n\n# Example usage:\nintervals = [[1, 3], [2, 6], [8, 10], [15, 18]]\nprint(merge_intervals(intervals))\n",
      "metadata": {
        "trusted": true
      },
      "outputs": [
        {
          "name": "stdout",
          "output_type": "stream",
          "text": "[[1, 6], [8, 10], [15, 18]]\n"
        }
      ],
      "execution_count": 4
    },
    {
      "id": "a6bc49d6-9627-49e3-a30c-40116fd57aba",
      "cell_type": "code",
      "source": "#Task 43 Find the Median of Two Sorted Arrays\nimport statistics\n\ndef find_median_sorted_arrays(arr1, arr2):\n    merged = sorted(arr1 + arr2)\n    return statistics.median(merged)\n\n# Example usage:\narr1 = [1, 3]\narr2 = [2]\nprint(find_median_sorted_arrays(arr1, arr2))\n",
      "metadata": {
        "trusted": true
      },
      "outputs": [
        {
          "name": "stdout",
          "output_type": "stream",
          "text": "2\n"
        }
      ],
      "execution_count": 5
    },
    {
      "id": "859291ee-4a54-4272-83ff-789cf3b9ecdc",
      "cell_type": "code",
      "source": "#Task 44 Maximal Rectangle in Binary Matrix\ndef maximal_rectangle(matrix):\n    if not matrix:\n        return 0\n    \n    max_area = 0\n    heights = [0] * len(matrix[0])\n\n    for row in matrix:\n        for i in range(len(row)):\n            heights[i] = heights[i] + 1 if row[i] == '1' else 0\n\n        stack = []\n        for i in range(len(heights) + 1):\n            while stack and (i == len(heights) or heights[i] < heights[stack[-1]]):\n                h = heights[stack.pop()]\n                w = i if not stack else i - stack[-1] - 1\n                max_area = max(max_area, h * w)\n            stack.append(i)\n\n    return max_area\n\n# Example usage:\nbinary_matrix = [\n    [\"1\",\"0\",\"1\",\"0\",\"0\"],\n    [\"1\",\"0\",\"1\",\"1\",\"1\"],\n    [\"1\",\"1\",\"1\",\"1\",\"1\"],\n    [\"1\",\"0\",\"0\",\"1\",\"0\"]\n]\nprint(maximal_rectangle(binary_matrix))\n",
      "metadata": {
        "trusted": true
      },
      "outputs": [
        {
          "name": "stdout",
          "output_type": "stream",
          "text": "6\n"
        }
      ],
      "execution_count": 7
    },
    {
      "id": "d098eacd-3dbb-4d99-adbe-4055bcc527a4",
      "cell_type": "code",
      "source": "# Task 45 Largest Sum Contiguous Subarray (Kadane's Algorithm)\ndef max_subarray_sum(arr):\n    max_sum = current_sum = arr[0]\n\n    for num in arr[1:]:\n        current_sum = max(num, current_sum + num)\n        max_sum = max(max_sum, current_sum)\n\n    return max_sum\n\n# Example usage:\narr = [-2, 1, -3, 4, -1, 2, 1, -5, 4]\nprint(max_subarray_sum(arr))\n",
      "metadata": {
        "trusted": true
      },
      "outputs": [
        {
          "name": "stdout",
          "output_type": "stream",
          "text": "6\n"
        }
      ],
      "execution_count": 8
    },
    {
      "id": "fcb90d97-fe58-4cbd-9290-bd9d2b356931",
      "cell_type": "code",
      "source": "# Task 46 Word Ladder Problem\nfrom collections import deque\n\ndef word_ladder(start, end, word_list):\n    word_set = set(word_list)\n    queue = deque([(start, 1)])\n\n    while queue:\n        word, length = queue.popleft()\n        if word == end:\n            return length\n\n        for i in range(len(word)):\n            for c in 'abcdefghijklmnopqrstuvwxyz':\n                new_word = word[:i] + c + word[i+1:]\n                if new_word in word_set:\n                    word_set.remove(new_word)\n                    queue.append((new_word, length + 1))\n\n    return 0\n\n# Example usage:\nword_list = [\"hot\", \"dot\", \"dog\", \"lot\", \"log\", \"cog\"]\nprint(word_ladder(\"hit\", \"cog\", word_list))\n\n",
      "metadata": {
        "trusted": true
      },
      "outputs": [
        {
          "name": "stdout",
          "output_type": "stream",
          "text": "5\n"
        }
      ],
      "execution_count": 9
    },
    {
      "id": "90d88016-5e76-46a9-85cd-a95cb85565df",
      "cell_type": "code",
      "source": "# Command-Line RPG Game\nimport random\n\nclass Character:\n    def __init__(self, name, health, attack, defense):\n        self.name = name\n        self.health = health\n        self.attack = attack\n        self.defense = defense\n\n    def attack_enemy(self, enemy):\n        damage = max(0, self.attack - enemy.defense)\n        enemy.health -= damage\n        print(f\"{self.name} attacks {enemy.name} for {damage} damage!\")\n\nclass Player(Character):\n    def __init__(self, name):\n        super().__init__(name, health=100, attack=10, defense=5)\n\nclass Enemy(Character):\n    def __init__(self, name):\n        super().__init__(name, health=random.randint(20, 50), attack=random.randint(5, 15), defense=random.randint(2, 5))\n\nplayer = Player(\"Hero\")\nenemy = Enemy(\"Goblin\")\n\nwhile enemy.health > 0 and player.health > 0:\n    player.attack_enemy(enemy)\n    if enemy.health > 0:\n        enemy.attack_enemy(player)  # Now this will work properly\n\nprint(\"Battle Over!\")\n",
      "metadata": {
        "trusted": true
      },
      "outputs": [
        {
          "name": "stdout",
          "output_type": "stream",
          "text": "Hero attacks Goblin for 8 damage!\nGoblin attacks Hero for 9 damage!\nHero attacks Goblin for 8 damage!\nGoblin attacks Hero for 9 damage!\nHero attacks Goblin for 8 damage!\nGoblin attacks Hero for 9 damage!\nHero attacks Goblin for 8 damage!\nGoblin attacks Hero for 9 damage!\nHero attacks Goblin for 8 damage!\nBattle Over!\n"
        }
      ],
      "execution_count": 13
    }
  ]
}