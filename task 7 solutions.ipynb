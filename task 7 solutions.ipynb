{
  "metadata": {
    "kernelspec": {
      "name": "python",
      "display_name": "Python (Pyodide)",
      "language": "python"
    },
    "language_info": {
      "codemirror_mode": {
        "name": "python",
        "version": 3
      },
      "file_extension": ".py",
      "mimetype": "text/x-python",
      "name": "python",
      "nbconvert_exporter": "python",
      "pygments_lexer": "ipython3",
      "version": "3.8"
    }
  },
  "nbformat_minor": 5,
  "nbformat": 4,
  "cells": [
    {
      "id": "fc19b01d-2be9-4da0-845e-172276f35ea5",
      "cell_type": "code",
      "source": "#Task 47 Count Inversions \ndef merge_and_count(arr, temp_arr, left, mid, right):\n    i, j, k = left, mid + 1, left\n    inv_count = 0\n\n    while i <= mid and j <= right:\n        if arr[i] <= arr[j]:\n            temp_arr[k] = arr[i]\n            i += 1\n        else:\n            temp_arr[k] = arr[j]\n            inv_count += (mid - i + 1)\n            j += 1\n        k += 1\n\n    while i <= mid:\n        temp_arr[k] = arr[i]\n        i += 1\n        k += 1\n\n    while j <= right:\n        temp_arr[k] = arr[j]\n        j += 1\n        k += 1\n\n    arr[left:right + 1] = temp_arr[left:right + 1]\n\n    return inv_count\n\ndef count_inversions(arr):\n    temp_arr = arr[:]\n    return merge_sort_and_count(arr, temp_arr, 0, len(arr) - 1)\n\ndef merge_sort_and_count(arr, temp_arr, left, right):\n    if left >= right:\n        return 0\n    mid = (left + right) // 2\n    inv_count = merge_sort_and_count(arr, temp_arr, left, mid)\n    inv_count += merge_sort_and_count(arr, temp_arr, mid + 1, right)\n    inv_count += merge_and_count(arr, temp_arr, left, mid, right)\n    return inv_count\n\narr = [1, 20, 6, 4, 5]\nprint(\"Number of inversions:\", count_inversions(arr))\n\n",
      "metadata": {
        "trusted": true
      },
      "outputs": [
        {
          "name": "stdout",
          "output_type": "stream",
          "text": "Number of inversions: 5\n"
        }
      ],
      "execution_count": 2
    },
    {
      "id": "02cb0795-b14b-46f3-a79b-4aa2d3e1e941",
      "cell_type": "code",
      "source": "# task 48 Longest Palindromic Substring\ndef longest_palindromic_substring(s):\n    def expand_around_center(left, right):\n        while left >= 0 and right < len(s) and s[left] == s[right]:\n            left -= 1\n            right += 1\n        return s[left + 1:right]\n\n    longest = \"\"\n    for i in range(len(s)):\n        odd_palindrome = expand_around_center(i, i)\n        even_palindrome = expand_around_center(i, i + 1)\n        longest = max(longest, odd_palindrome, even_palindrome, key=len)\n    \n    return longest\n\ns = \"babad\"\nprint(\"Longest Palindromic Substring:\", longest_palindromic_substring(s))\n\n",
      "metadata": {
        "trusted": true
      },
      "outputs": [
        {
          "name": "stdout",
          "output_type": "stream",
          "text": "Longest Palindromic Substring: bab\n"
        }
      ],
      "execution_count": 3
    },
    {
      "id": "ecbbb6bb-ab08-4327-8b0d-3b6fae0361fc",
      "cell_type": "code",
      "source": "# Task 49 Traveling Salesman Problem (TSP)\nfrom itertools import permutations\n\ndef traveling_salesman(graph):\n    cities = list(graph.keys())\n    min_path = float('inf')\n    best_route = None\n\n    for perm in permutations(cities):\n        cost = 0\n        for i in range(len(perm) - 1):\n            cost += graph[perm[i]][perm[i+1]]\n        cost += graph[perm[-1]][perm[0]]\n\n        if cost < min_path:\n            min_path = cost\n            best_route = perm\n\n    return best_route, min_path\n\ngraph = {\n    'A': {'A': 0, 'B': 10, 'C': 15, 'D': 20},\n    'B': {'A': 10, 'B': 0, 'C': 35, 'D': 25},\n    'C': {'A': 15, 'B': 35, 'C': 0, 'D': 30},\n    'D': {'A': 20, 'B': 25, 'C': 30, 'D': 0}\n}\n\nroute, cost = traveling_salesman(graph)\nprint(\"Best route:\", route, \"with cost:\", cost)\n",
      "metadata": {
        "trusted": true
      },
      "outputs": [
        {
          "name": "stdout",
          "output_type": "stream",
          "text": "Best route: ('A', 'B', 'D', 'C') with cost: 80\n"
        }
      ],
      "execution_count": 4
    },
    {
      "id": "053ed4ce-0235-42f0-9a35-d6bac4df9b14",
      "cell_type": "code",
      "source": "#Task 50 Graph Cycle Detection\nfrom collections import defaultdict\n\nclass Graph:\n    def __init__(self):\n        self.graph = defaultdict(list)\n\n    def add_edge(self, u, v):\n        self.graph[u].append(v)\n        self.graph[v].append(u)\n\n    def is_cyclic_util(self, v, visited, parent):\n        visited[v] = True\n        for neighbor in self.graph[v]:\n            if not visited[neighbor]:\n                if self.is_cyclic_util(neighbor, visited, v):\n                    return True\n            elif parent != neighbor:\n                return True\n        return False\n\n    def is_cyclic(self):\n        visited = {node: False for node in self.graph}\n        for node in self.graph:\n            if not visited[node]:\n                if self.is_cyclic_util(node, visited, -1):\n                    return True\n        return False\n\ng = Graph()\ng.add_edge(0, 1)\ng.add_edge(1, 2)\ng.add_edge(2, 0)\n\nprint(\"Graph contains cycle:\", g.is_cyclic())\n",
      "metadata": {
        "trusted": true
      },
      "outputs": [
        {
          "name": "stdout",
          "output_type": "stream",
          "text": "Graph contains cycle: True\n"
        }
      ],
      "execution_count": 5
    },
    {
      "id": "a6bc49d6-9627-49e3-a30c-40116fd57aba",
      "cell_type": "code",
      "source": "#Task 51  Longest Substring Without Repeating Characters\ndef longest_unique_substring(s):\n    char_index = {}\n    left = max_length = 0\n\n    for right in range(len(s)):\n        if s[right] in char_index and char_index[s[right]] >= left:\n            left = char_index[s[right]] + 1\n        char_index[s[right]] = right\n        max_length = max(max_length, right - left + 1)\n\n    return max_length\n\ns = \"abcabcbb\"\nprint(\"Length of Longest Unique Substring:\", longest_unique_substring(s))\n",
      "metadata": {
        "trusted": true
      },
      "outputs": [
        {
          "name": "stdout",
          "output_type": "stream",
          "text": "Length of Longest Unique Substring: 3\n"
        }
      ],
      "execution_count": 6
    },
    {
      "id": "859291ee-4a54-4272-83ff-789cf3b9ecdc",
      "cell_type": "code",
      "source": "#Task 52  Find All Valid Parentheses Combinations\ndef generate_parentheses(n):\n    def backtrack(s, left, right):\n        if len(s) == 2 * n:\n            result.append(s)\n            return\n        if left < n:\n            backtrack(s + \"(\", left + 1, right)\n        if right < left:\n            backtrack(s + \")\", left, right + 1)\n\n    result = []\n    backtrack(\"\", 0, 0)\n    return result\n\nn = 3\nprint(\"Valid Parentheses Combinations:\", generate_parentheses(n))\n",
      "metadata": {
        "trusted": true
      },
      "outputs": [
        {
          "name": "stdout",
          "output_type": "stream",
          "text": "Valid Parentheses Combinations: ['((()))', '(()())', '(())()', '()(())', '()()()']\n"
        }
      ],
      "execution_count": 7
    },
    {
      "id": "d098eacd-3dbb-4d99-adbe-4055bcc527a4",
      "cell_type": "code",
      "source": "# Task 53 Zigzag Level Order Traversal of Binary Tree\nfrom collections import deque\n\nclass TreeNode:\n    def __init__(self, val=0, left=None, right=None):\n        self.val = val\n        self.left = left\n        self.right = right\n\ndef zigzag_level_order(root):\n    if not root:\n        return []\n    \n    result, queue, reverse = [], deque([root]), False\n\n    while queue:\n        level = deque()\n        for _ in range(len(queue)):\n            node = queue.popleft()\n            if reverse:\n                level.appendleft(node.val)\n            else:\n                level.append(node.val)\n            if node.left:\n                queue.append(node.left)\n            if node.right:\n                queue.append(node.right)\n        \n        result.append(list(level))\n        reverse = not reverse\n    \n    return result\n\nroot = TreeNode(1, TreeNode(2, TreeNode(4), TreeNode(5)), TreeNode(3, TreeNode(6), TreeNode(7)))\nprint(\"Zigzag Level Order Traversal:\", zigzag_level_order(root))\n",
      "metadata": {
        "trusted": true
      },
      "outputs": [
        {
          "name": "stdout",
          "output_type": "stream",
          "text": "Zigzag Level Order Traversal: [[1], [3, 2], [4, 5, 6, 7]]\n"
        }
      ],
      "execution_count": 8
    },
    {
      "id": "fcb90d97-fe58-4cbd-9290-bd9d2b356931",
      "cell_type": "code",
      "source": "# Task 54  Palindrome Partitioning\ndef partition(s):\n    def is_palindrome(sub):\n        return sub == sub[::-1]\n\n    def backtrack(start, path):\n        if start == len(s):\n            result.append(path[:])\n            return\n        for end in range(start, len(s)):\n            if is_palindrome(s[start:end + 1]):\n                backtrack(end + 1, path + [s[start:end + 1]])\n\n    result = []\n    backtrack(0, [])\n    return result\n\ns = \"aab\"\nprint(\"Palindrome Partitions:\", partition(s))\n\n\n",
      "metadata": {
        "trusted": true
      },
      "outputs": [
        {
          "name": "stdout",
          "output_type": "stream",
          "text": "Palindrome Partitions: [['a', 'a', 'b'], ['aa', 'b']]\n"
        }
      ],
      "execution_count": 9
    },
    {
      "id": "90d88016-5e76-46a9-85cd-a95cb85565df",
      "cell_type": "code",
      "source": "# Personal Budget Advisor\nimport json\nimport os\n\nclass BudgetAdvisor:\n    def __init__(self, filename=\"budget_data.json\"):\n        self.filename = filename\n        self.categories = {}\n        self.load_data()\n    \n    def load_data(self):\n        if os.path.exists(self.filename):\n            with open(self.filename, \"r\") as file:\n                self.categories = json.load(file)\n        else:\n            self.categories = {}\n    \n    def save_data(self):\n        with open(self.filename, \"w\") as file:\n            json.dump(self.categories, file, indent=4)\n    \n    def set_budget(self, category, amount):\n        if category not in self.categories:\n            self.categories[category] = {\"budget\": 0, \"spent\": 0}\n        self.categories[category][\"budget\"] = amount\n        self.save_data()\n        print(f\"Budget for {category} set to ${amount}\")\n    \n    def add_expense(self, category, amount):\n        if category not in self.categories:\n            print(f\"Category '{category}' not found. Please set a budget first.\")\n            return\n        self.categories[category][\"spent\"] += amount\n        self.save_data()\n        print(f\"Added expense of ${amount} to {category}\")\n        self.check_budget(category)\n    \n    def check_budget(self, category):\n        budget = self.categories[category][\"budget\"]\n        spent = self.categories[category][\"spent\"]\n        if spent > budget:\n            print(f\"Warning: You have exceeded the budget for {category} by ${spent - budget}!\")\n    \n    def show_summary(self):\n        print(\"\\nBudget Summary:\")\n        for category, data in self.categories.items():\n            print(f\"{category}: Budget = ${data['budget']}, Spent = ${data['spent']}\")\n    \n# Sample usage\nadvisor = BudgetAdvisor()\nadvisor.set_budget(\"Groceries\", 500)\nadvisor.set_budget(\"Entertainment\", 200)\nadvisor.add_expense(\"Groceries\", 100)\nadvisor.add_expense(\"Entertainment\", 250)\nadvisor.show_summary()\n",
      "metadata": {
        "trusted": true
      },
      "outputs": [
        {
          "name": "stdout",
          "output_type": "stream",
          "text": "Budget for Groceries set to $500\n"
        }
      ],
      "execution_count": null
    }
  ]
}