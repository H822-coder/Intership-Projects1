{
  "metadata": {
    "kernelspec": {
      "name": "python",
      "display_name": "Python (Pyodide)",
      "language": "python"
    },
    "language_info": {
      "codemirror_mode": {
        "name": "python",
        "version": 3
      },
      "file_extension": ".py",
      "mimetype": "text/x-python",
      "name": "python",
      "nbconvert_exporter": "python",
      "pygments_lexer": "ipython3",
      "version": "3.8"
    }
  },
  "nbformat_minor": 5,
  "nbformat": 4,
  "cells": [
    {
      "id": "fc19b01d-2be9-4da0-845e-172276f35ea5",
      "cell_type": "code",
      "source": "# Task 33 Find All Permutations of a Strin\nfrom itertools import permutations\n\ndef find_permutations(s):\n    return [''.join(p) for p in permutations(s)]\n\n# Example usage:\nprint(find_permutations(\"abc\"))\n",
      "metadata": {
        "trusted": true
      },
      "outputs": [
        {
          "name": "stdout",
          "output_type": "stream",
          "text": "['abc', 'acb', 'bac', 'bca', 'cab', 'cba']\n"
        }
      ],
      "execution_count": 1
    },
    {
      "id": "02cb0795-b14b-46f3-a79b-4aa2d3e1e941",
      "cell_type": "code",
      "source": "# Task 34 N-th Fibonacci Number (Dynamic Programming)\ndef fibonacci(n):\n    if n <= 0:\n        return \"Invalid input\"\n    dp = [0] * (n + 1)\n    dp[1] = 1\n    for i in range(2, n + 1):\n        dp[i] = dp[i - 1] + dp[i - 2]\n    return dp[n]\n\n# Example usage:\nprint(fibonacci(10))\n",
      "metadata": {
        "trusted": true
      },
      "outputs": [
        {
          "name": "stdout",
          "output_type": "stream",
          "text": "55\n"
        }
      ],
      "execution_count": 2
    },
    {
      "id": "ecbbb6bb-ab08-4327-8b0d-3b6fae0361fc",
      "cell_type": "code",
      "source": "# Task 35 Find Duplicates in a List\nfrom collections import Counter\n\ndef find_duplicates(lst):\n    counter = Counter(lst)\n    return [key for key, value in counter.items() if value > 1]\n\n# Example usage:\nprint(find_duplicates([1, 2, 3, 2, 4, 5, 6, 6]))\n",
      "metadata": {
        "trusted": true
      },
      "outputs": [
        {
          "name": "stdout",
          "output_type": "stream",
          "text": "[2, 6]\n"
        }
      ],
      "execution_count": 3
    },
    {
      "id": "053ed4ce-0235-42f0-9a35-d6bac4df9b14",
      "cell_type": "code",
      "source": "# Task 36 Longest Increasing Subsequence (LIS)\ndef longest_increasing_subsequence(arr):\n    if not arr:\n        return 0\n    dp = [1] * len(arr)\n    for i in range(len(arr)):\n        for j in range(i):\n            if arr[i] > arr[j]:\n                dp[i] = max(dp[i], dp[j] + 1)\n    return max(dp)\n\n# Example usage:\nprint(longest_increasing_subsequence([10, 9, 2, 5, 3, 7, 101, 18]))\n",
      "metadata": {
        "trusted": true
      },
      "outputs": [
        {
          "name": "stdout",
          "output_type": "stream",
          "text": "4\n"
        }
      ],
      "execution_count": 4
    },
    {
      "id": "a6bc49d6-9627-49e3-a30c-40116fd57aba",
      "cell_type": "code",
      "source": "#Task 37 Find K Largest Element\nimport heapq\n\ndef find_k_largest(lst, k):\n    return heapq.nlargest(k, lst)\n\n# Example usage:\nprint(find_k_largest([3, 1, 5, 12, 2, 11], 3))\n",
      "metadata": {
        "trusted": true
      },
      "outputs": [
        {
          "name": "stdout",
          "output_type": "stream",
          "text": "[12, 11, 5]\n"
        }
      ],
      "execution_count": 5
    },
    {
      "id": "859291ee-4a54-4272-83ff-789cf3b9ecdc",
      "cell_type": "code",
      "source": "#Task 38 Rotate Matrix\ndef rotate_matrix(matrix):\n    return [list(row) for row in zip(*matrix[::-1])]\n\n# Example usage:\nmatrix = [[1, 2, 3], [4, 5, 6], [7, 8, 9]]\nfor row in rotate_matrix(matrix):\n    print(row)\n",
      "metadata": {
        "trusted": true
      },
      "outputs": [
        {
          "name": "stdout",
          "output_type": "stream",
          "text": "[7, 4, 1]\n[8, 5, 2]\n[9, 6, 3]\n"
        }
      ],
      "execution_count": 6
    },
    {
      "id": "d098eacd-3dbb-4d99-adbe-4055bcc527a4",
      "cell_type": "code",
      "source": "# Task 39 Sudoku Validator\ndef is_valid_sudoku(board):\n    def is_valid_unit(unit):\n        unit = [num for num in unit if num != '.']\n        return len(unit) == len(set(unit))\n    \n    for row in board:\n        if not is_valid_unit(row):\n            return False\n\n    for col in zip(*board):\n        if not is_valid_unit(col):\n            return False\n\n    for i in range(0, 9, 3):\n        for j in range(0, 9, 3):\n            square = [board[x][y] for x in range(i, i+3) for y in range(j, j+3)]\n            if not is_valid_unit(square):\n                return False\n                \n    return True\n\n# Example usage:\nsudoku_board = [\n    [\"5\", \"3\", \".\", \".\", \"7\", \".\", \".\", \".\", \".\"],\n    [\"6\", \".\", \".\", \"1\", \"9\", \"5\", \".\", \".\", \".\"],\n    [\".\", \"9\", \"8\", \".\", \".\", \".\", \".\", \"6\", \".\"],\n    [\"8\", \".\", \".\", \".\", \"6\", \".\", \".\", \".\", \"3\"],\n    [\"4\", \".\", \".\", \"8\", \".\", \"3\", \".\", \".\", \"1\"],\n    [\"7\", \".\", \".\", \".\", \"2\", \".\", \".\", \".\", \"6\"],\n    [\".\", \"6\", \".\", \".\", \".\", \".\", \"2\", \"8\", \".\"],\n    [\".\", \".\", \".\", \"4\", \"1\", \"9\", \".\", \".\", \"5\"],\n    [\".\", \".\", \".\", \".\", \"8\", \".\", \".\", \"7\", \"9\"]\n]\n\nprint(is_valid_sudoku(sudoku_board))\n",
      "metadata": {
        "trusted": true
      },
      "outputs": [
        {
          "name": "stdout",
          "output_type": "stream",
          "text": "True\n"
        }
      ],
      "execution_count": 7
    },
    {
      "id": "fcb90d97-fe58-4cbd-9290-bd9d2b356931",
      "cell_type": "code",
      "source": "#Virtual Stock Market Simulator \nimport random\n\nclass StockMarketSimulator:\n    def __init__(self):\n        self.stocks = {\"AAPL\": 100, \"GOOGL\": 200, \"TSLA\": 150}\n        self.portfolio = {}\n\n    def update_prices(self):\n        for stock in self.stocks:\n            self.stocks[stock] += random.randint(-5, 5)\n\n    def buy_stock(self, stock, quantity):\n        if stock in self.stocks:\n            cost = self.stocks[stock] * quantity\n            self.portfolio[stock] = self.portfolio.get(stock, 0) + quantity\n            print(f\"Bought {quantity} shares of {stock} at {self.stocks[stock]} each.\")\n\n    def sell_stock(self, stock, quantity):\n        if stock in self.portfolio and self.portfolio[stock] >= quantity:\n            self.portfolio[stock] -= quantity\n            print(f\"Sold {quantity} shares of {stock} at {self.stocks[stock]} each.\")\n        else:\n            print(\"Not enough stock to sell.\")\n\n    def display_market(self):\n        print(\"Stock Prices:\")\n        for stock, price in self.stocks.items():\n            print(f\"{stock}: ${price}\")\n\n    def display_portfolio(self):\n        print(\"Your Portfolio:\")\n        for stock, quantity in self.portfolio.items():\n            print(f\"{stock}: {quantity} shares\")\n\n# Example usage:\nmarket = StockMarketSimulator()\nmarket.display_market()\nmarket.buy_stock(\"AAPL\", 5)\nmarket.sell_stock(\"AAPL\", 2)\nmarket.update_prices()\nmarket.display_market()\nmarket.display_portfolio()\n",
      "metadata": {
        "trusted": true
      },
      "outputs": [
        {
          "name": "stdout",
          "output_type": "stream",
          "text": "Stock Prices:\nAAPL: $100\nGOOGL: $200\nTSLA: $150\nBought 5 shares of AAPL at 100 each.\nSold 2 shares of AAPL at 100 each.\nStock Prices:\nAAPL: $95\nGOOGL: $195\nTSLA: $145\nYour Portfolio:\nAAPL: 3 shares\n"
        }
      ],
      "execution_count": 8
    }
  ]
}