{
  "metadata": {
    "kernelspec": {
      "name": "python",
      "display_name": "Python (Pyodide)",
      "language": "python"
    },
    "language_info": {
      "codemirror_mode": {
        "name": "python",
        "version": 3
      },
      "file_extension": ".py",
      "mimetype": "text/x-python",
      "name": "python",
      "nbconvert_exporter": "python",
      "pygments_lexer": "ipython3",
      "version": "3.8"
    }
  },
  "nbformat_minor": 5,
  "nbformat": 4,
  "cells": [
    {
      "id": "10facca0-ba09-41c9-b4d8-73f03098ed7d",
      "cell_type": "code",
      "source": "# Task 1: Sum of Two Numbers\na = 3\nb = 4\nprint(\"Sum:\", a + b)\n",
      "metadata": {
        "trusted": true
      },
      "outputs": [
        {
          "name": "stdout",
          "output_type": "stream",
          "text": "Sum: 7\n"
        }
      ],
      "execution_count": 3
    },
    {
      "id": "6a920472-753e-46f7-bd2c-364c138f4bd1",
      "cell_type": "code",
      "source": "# Task 2: Odd or Even\nn = 3\nif n%2==0:\n    print(\"Even\")\nelse:\n    print(\"Odd\")\n    ",
      "metadata": {
        "trusted": true
      },
      "outputs": [
        {
          "name": "stdout",
          "output_type": "stream",
          "text": "Odd\n"
        }
      ],
      "execution_count": 4
    },
    {
      "id": "003d2d1b-4ad2-4c8c-9fcf-a15624c5ec51",
      "cell_type": "code",
      "source": "# Task 3:Factorial Calculation\nn = 6\nfactorial = 1\nfor i in range(1, n + 1):\n    factorial *= i\nprint(f\"Factorial of {n} is {factorial}\")",
      "metadata": {
        "trusted": true
      },
      "outputs": [
        {
          "name": "stdout",
          "output_type": "stream",
          "text": "Factorial of 6 is 720\n"
        }
      ],
      "execution_count": 6
    },
    {
      "id": "5a708590-30f1-4990-9c64-1aeef684d7a2",
      "cell_type": "code",
      "source": "# Task 4: Fibonacci Sequence\nn = 10  \na, b = 0, 1\nprint(\"Fibonacci Sequence:\")\nfor _ in range(n):\n    print(a, end=\" \")\n    a, b = b, a + b\n",
      "metadata": {
        "trusted": true
      },
      "outputs": [
        {
          "name": "stdout",
          "output_type": "stream",
          "text": "Fibonacci Sequence:\n0 1 1 2 3 5 8 13 21 34 "
        }
      ],
      "execution_count": 7
    },
    {
      "id": "874c05b2-eb98-453e-98d5-65ff4a8a67ea",
      "cell_type": "code",
      "source": "# Task 5: Reverse a String\ns = \"hello\" \nprint(\"Reversed string:\", s[::-1])\n",
      "metadata": {
        "trusted": true
      },
      "outputs": [
        {
          "name": "stdout",
          "output_type": "stream",
          "text": "Reversed string: olleh\n"
        }
      ],
      "execution_count": 10
    },
    {
      "id": "0f495ba8-6675-4b25-9db2-3795ae0ee4fc",
      "cell_type": "code",
      "source": "# Task 6: Palindrome Check\ns = \"madam\"  \nif s == s[::-1]:\n    print(f\"{s} is a palindrome\")\nelse:\n    print(f\"{s} is not a palindrome\")\n",
      "metadata": {
        "trusted": true
      },
      "outputs": [
        {
          "name": "stdout",
          "output_type": "stream",
          "text": "madam is a palindrome\n"
        }
      ],
      "execution_count": 11
    },
    {
      "id": "736ddc60-215c-434f-8a42-3dcc871a7eb4",
      "cell_type": "code",
      "source": "# Task 7: Leap Year Check\nyear = 2024  \nif (year % 4 == 0 and year % 100 != 0) or (year % 400 == 0):\n    print(f\"{year} is a leap year\")\nelse:\n    print(f\"{year} is not a leap year\")",
      "metadata": {
        "trusted": true
      },
      "outputs": [
        {
          "name": "stdout",
          "output_type": "stream",
          "text": "2024 is a leap year\n"
        }
      ],
      "execution_count": 13
    },
    {
      "id": "dcc140d1-ecef-42f1-9d0b-ea452e79d9d2",
      "cell_type": "code",
      "source": "# Task 8: Armstrong Number\nn = 153\ndigits = [int(d) for d in str(n)]\npower = len(digits)\nif n == sum(d ** power for d in digits):\n    print(f\"{n} is an Armstrong number\")\nelse:\n    print(f\"{n} is not an Armstrong number\")",
      "metadata": {
        "trusted": true
      },
      "outputs": [
        {
          "name": "stdout",
          "output_type": "stream",
          "text": "153 is an Armstrong number\n"
        }
      ],
      "execution_count": 15
    },
    {
      "id": "439df959-eee5-47c9-af32-868896e15441",
      "cell_type": "code",
      "source": "# Task: Custom Encryption-Decryption System\n\n# Function to encrypt a message\ndef encrypt(message, key):\n    encrypted = \"\"\n    for char in message:\n        if char.isalpha():  # Encrypt only alphabetic characters\n            encrypted += chr(ord(char) + key)  # Shift by the key\n        else:\n            encrypted += char  # Leave non-alphabetic characters unchanged\n    return encrypted\n\n# Function to decrypt a message\ndef decrypt(encrypted_message, key):\n    decrypted = \"\"\n    for char in encrypted_message:\n        if char.isalpha():  # Decrypt only alphabetic characters\n            decrypted += chr(ord(char) - key)  # Reverse the shift\n        else:\n            decrypted += char  # Leave non-alphabetic characters unchanged\n    return decrypted\n\n# Example usage\nmessage = \"Hello, World!\"  # Original message\nkey = 2  # Encryption key\n\n# Encrypt the message\nencrypted_message = encrypt(message, key)\nprint(\"Encrypted Message:\", encrypted_message)\n\n# Decrypt the message\ndecrypted_message = decrypt(encrypted_message, key)\nprint(\"Decrypted Message:\", decrypted_message)\n",
      "metadata": {
        "trusted": true
      },
      "outputs": [
        {
          "name": "stdout",
          "output_type": "stream",
          "text": "Encrypted Message: Jgnnq, Yqtnf!\nDecrypted Message: Hello, World!\n"
        }
      ],
      "execution_count": 16
    },
    {
      "id": "651e7ea1-3de6-4a7c-b420-13c115c4f656",
      "cell_type": "code",
      "source": "",
      "metadata": {
        "trusted": true
      },
      "outputs": [],
      "execution_count": null
    }
  ]
}